{
  "nbformat": 4,
  "nbformat_minor": 0,
  "metadata": {
    "colab": {
      "name": "PURCHASE AND SALES.ipynb",
      "provenance": [],
      "collapsed_sections": []
    },
    "kernelspec": {
      "name": "python3",
      "display_name": "Python 3"
    },
    "language_info": {
      "name": "python"
    }
  },
  "cells": [
    {
      "cell_type": "code",
      "metadata": {
        "id": "1EWdR-4M9dnb"
      },
      "source": [
        "import json\n",
        "\n",
        "fd = open(\"record.json\",\"r\")\n",
        "r = fd.read()\n",
        "fd.close()\n",
        "\n",
        "records = json.loads(r)"
      ],
      "execution_count": 1,
      "outputs": []
    },
    {
      "cell_type": "code",
      "metadata": {
        "colab": {
          "base_uri": "https://localhost:8080/"
        },
        "id": "iTjarOYE9ngt",
        "outputId": "bfb4b161-ad18-4ea2-be5a-2110b81b1d3c"
      },
      "source": [
        "amount = 0\n",
        "\n",
        "print(\"enter number of products to buy\")\n",
        "li = int(input())\n",
        "for i in range(li):\n",
        "    u_pro = str(input(\"enter the product id:\"))\n",
        "    u_qty = int(input(\"enter quantity required:\"))\n",
        "    total = records[u_pro]['price'] * u_qty\n",
        "    \n",
        "    if u_qty == 0 or u_qty > records[u_pro]['quantity']:\n",
        "        print(\"Sorry ,out of stock\")\n",
        "    else:\n",
        "        print(\"***************************************\")\n",
        "        print(\"Product: \",records[u_pro]['name'])\n",
        "        print(\"Quantity Available: \",records[u_pro]['quantity'])\n",
        "        print(\"Quantity Ordered: \",u_qty)\n",
        "        print(\"Price: \",records[u_pro]['price'])\n",
        "        print(\"Total: \",total)\n",
        "\n",
        "        print(\"***************************************\")\n",
        "        \n",
        "\n",
        "        amount +=total \n",
        "        print(\"Total amount: \",amount)\n",
        "       \n",
        "        print(\"***************************************\")\n",
        "print(\"THANKS FOR SHOPPING\")    \n",
        "records[u_pro]['quantity'] -= u_qty\n",
        "\n",
        "js = json.dumps(records)\n",
        "\n",
        "fd = open(\"record.json\",\"w\")\n",
        "\n",
        "fd.write(js)\n",
        "\n",
        "fd.close()\n",
        "\n"
      ],
      "execution_count": 2,
      "outputs": [
        {
          "output_type": "stream",
          "name": "stdout",
          "text": [
            "enter number of products to buy\n",
            "1\n",
            "enter the product id:1010\n",
            "enter quantity required:2\n",
            "***************************************\n",
            "Product:  Nandini milk\n",
            "Quantity Available:  50\n",
            "Quantity Ordered:  2\n",
            "Price:  40\n",
            "Total:  80\n",
            "***************************************\n",
            "Total amount:  80\n",
            "***************************************\n",
            "THANKS FOR SHOPPING\n"
          ]
        }
      ]
    },
    {
      "cell_type": "code",
      "metadata": {
        "id": "2fRPRli49r5y"
      },
      "source": [
        ""
      ],
      "execution_count": null,
      "outputs": []
    },
    {
      "cell_type": "markdown",
      "metadata": {
        "id": "UrQWw31MAV-p"
      },
      "source": [
        "Sales JSON"
      ]
    },
    {
      "cell_type": "code",
      "metadata": {
        "id": "owVbjgVwWolF"
      },
      "source": [
        "u_name = str(input())\n",
        "u_contact = int(input())\n",
        "pay_type = str(input())\n",
        "\n",
        "\n",
        "\n",
        "sales[(len(sales) + 1)] = {'user' : u_name, 'contact' : u_contact, 'no_of_items' : li,'Total' : amount,'pay' : pay_type}\n",
        "         "
      ],
      "execution_count": null,
      "outputs": []
    },
    {
      "cell_type": "code",
      "metadata": {
        "id": "kd1HHEfgWIlI"
      },
      "source": [
        "sale = json.dumps(sales)"
      ],
      "execution_count": null,
      "outputs": []
    },
    {
      "cell_type": "code",
      "metadata": {
        "id": "J7yTplqjWc6G"
      },
      "source": [
        "fd = open(\"sales.json\",'w')\n",
        "\n",
        "fd.write(sale)\n",
        "\n",
        "fd.close()"
      ],
      "execution_count": null,
      "outputs": []
    }
  ]
}