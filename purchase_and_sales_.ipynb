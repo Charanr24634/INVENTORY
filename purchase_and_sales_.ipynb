{
  "nbformat": 4,
  "nbformat_minor": 0,
  "metadata": {
    "colab": {
      "name": "purchase and sales .ipynb",
      "provenance": []
    },
    "kernelspec": {
      "name": "python3",
      "display_name": "Python 3"
    },
    "language_info": {
      "name": "python"
    }
  },
  "cells": [
    {
      "cell_type": "code",
      "metadata": {
        "id": "J_uYaMLBYY8y"
      },
      "source": [
        "import json\n",
        "\n",
        "fd = open(\"record.json\",\"r\")\n",
        "r = fd.read()\n",
        "fd.close()\n",
        "\n",
        "records = json.loads(r)"
      ],
      "execution_count": 2,
      "outputs": []
    },
    {
      "cell_type": "code",
      "metadata": {
        "colab": {
          "base_uri": "https://localhost:8080/"
        },
        "id": "O3MHpqlUYiFI",
        "outputId": "1ce33ea6-726e-4dde-fbd5-627b82f2de42"
      },
      "source": [
        "amount = 0\n",
        "\n",
        "print(\"enter number of products to buy\")\n",
        "li = int(input())\n",
        "for i in range(li):\n",
        "    u_pro = str(input(\"enter the product id:\"))\n",
        "    u_qty = int(input(\"enter quantity required:\"))\n",
        "    total = records[u_pro]['price'] * u_qty\n",
        "    \n",
        "    if u_qty == 0 or u_qty > records[u_pro]['quantity']:\n",
        "        print(\"Sorry ,out of stock\")\n",
        "    else:\n",
        "        print(\"***************************************\")\n",
        "        print(\"Product: \",records[u_pro]['name'])\n",
        "        print(\"Quantity Available: \",records[u_pro]['quantity'])\n",
        "        print(\"Quantity Ordered: \",u_qty)\n",
        "        print(\"Price: \",records[u_pro]['price'])\n",
        "        print(\"Total: \",total)\n",
        "\n",
        "        print(\"***************************************\")\n",
        "        \n",
        "\n",
        "        amount +=total \n",
        "        print(\"Total amount: \",amount)\n",
        "       \n",
        "        print(\"***************************************\")\n",
        "print(\"THANKS FOR SHOPPING\")    \n",
        "records[u_pro]['quantity'] -= u_qty\n",
        "\n",
        "js = json.dumps(records)\n",
        "\n",
        "fd = open(\"record.json\",\"w\")\n",
        "\n",
        "fd.write(js)\n",
        "\n",
        "fd.close()\n",
        "\n"
      ],
      "execution_count": 16,
      "outputs": [
        {
          "output_type": "stream",
          "name": "stdout",
          "text": [
            "enter number of products to buy\n",
            "1\n",
            "enter the product id:1013\n",
            "enter quantity required:2\n",
            "***************************************\n",
            "Product:  Amul vanilla ice cream\n",
            "Quantity Available:  40\n",
            "Quantity Ordered:  2\n",
            "Price:  500\n",
            "Total:  1000\n",
            "***************************************\n",
            "Total amount:  1000\n",
            "***************************************\n",
            "THANKS FOR SHOPPING\n"
          ]
        }
      ]
    },
    {
      "cell_type": "code",
      "metadata": {
        "id": "9WTyTQESY4PA"
      },
      "source": [
        ""
      ],
      "execution_count": null,
      "outputs": []
    },
    {
      "cell_type": "markdown",
      "metadata": {
        "id": "vJa8RETbY_wI"
      },
      "source": [
        "SALES JSON\n"
      ]
    },
    {
      "cell_type": "code",
      "metadata": {
        "colab": {
          "base_uri": "https://localhost:8080/"
        },
        "id": "gFIS3KAxZJ5d",
        "outputId": "3f950e8f-bc9f-4abe-be43-61047d292e53"
      },
      "source": [
        "u_name = str(input())\n",
        "u_contact = int(input())\n",
        "pay_type = str(input())\n",
        "\n",
        "sales[(len(sales) + 1)] = {'user' : u_name, 'contact' : u_contact, 'no_of_items' : li,'Total' : amount,'pay' : pay_type}\n",
        "\n",
        "         "
      ],
      "execution_count": 17,
      "outputs": [
        {
          "name": "stdout",
          "output_type": "stream",
          "text": [
            "subbu\n",
            "5412254571\n",
            "credit\n"
          ]
        }
      ]
    },
    {
      "cell_type": "code",
      "metadata": {
        "colab": {
          "base_uri": "https://localhost:8080/"
        },
        "id": "aObGJ7MxZutM",
        "outputId": "95257c5e-dac3-4b09-fd6c-eee501fb6c1f"
      },
      "source": [
        "sales"
      ],
      "execution_count": 18,
      "outputs": [
        {
          "output_type": "execute_result",
          "data": {
            "text/plain": [
              "{1: {'Total': 200,\n",
              "  'contact': 789541252,\n",
              "  'no_of_items': 1,\n",
              "  'pay': 'dfs',\n",
              "  'user': 'charan'},\n",
              " 2: {'Total': 200,\n",
              "  'contact': 789541252,\n",
              "  'no_of_items': 1,\n",
              "  'pay': 'dfs',\n",
              "  'user': 'charan'},\n",
              " 3: {'Total': 300,\n",
              "  'contact': 789541252,\n",
              "  'no_of_items': 1,\n",
              "  'pay': 'dfs',\n",
              "  'user': 'charan'},\n",
              " 4: {'Total': 300,\n",
              "  'contact': 7889511541,\n",
              "  'no_of_items': 1,\n",
              "  'pay': 'paytm',\n",
              "  'user': 'kiran'},\n",
              " 5: {'Total': 500,\n",
              "  'contact': 4515461254,\n",
              "  'no_of_items': 1,\n",
              "  'pay': 'phonepe',\n",
              "  'user': 'pavan'},\n",
              " 6: {'Total': 1000,\n",
              "  'contact': 5412254571,\n",
              "  'no_of_items': 1,\n",
              "  'pay': 'credit',\n",
              "  'user': 'subbu'}}"
            ]
          },
          "metadata": {},
          "execution_count": 18
        }
      ]
    },
    {
      "cell_type": "code",
      "metadata": {
        "id": "mLhUrOldZ86a"
      },
      "source": [
        "sale = json.dumps(sales)"
      ],
      "execution_count": 19,
      "outputs": []
    },
    {
      "cell_type": "code",
      "metadata": {
        "id": "UhVHiqgEa7-D"
      },
      "source": [
        "fd = open(\"sales.json\",'w')\n",
        "\n",
        "fd.write(sale)\n",
        "\n",
        "fd.close()"
      ],
      "execution_count": 20,
      "outputs": []
    },
    {
      "cell_type": "code",
      "metadata": {
        "id": "bUlwQmzga_io"
      },
      "source": [
        ""
      ],
      "execution_count": null,
      "outputs": []
    }
  ]
}